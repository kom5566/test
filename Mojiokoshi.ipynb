{
  "nbformat": 4,
  "nbformat_minor": 0,
  "metadata": {
    "colab": {
      "provenance": [],
      "authorship_tag": "ABX9TyMyKI1qfH2pn7YGzMJjzHL8",
      "include_colab_link": true
    },
    "kernelspec": {
      "name": "python3",
      "display_name": "Python 3"
    },
    "language_info": {
      "name": "python"
    }
  },
  "cells": [
    {
      "cell_type": "markdown",
      "metadata": {
        "id": "view-in-github",
        "colab_type": "text"
      },
      "source": [
        "<a href=\"https://colab.research.google.com/github/kom5566/test/blob/main/Mojiokoshi.ipynb\" target=\"_parent\"><img src=\"https://colab.research.google.com/assets/colab-badge.svg\" alt=\"Open In Colab\"/></a>"
      ]
    },
    {
      "cell_type": "code",
      "execution_count": 1,
      "metadata": {
        "colab": {
          "base_uri": "https://localhost:8080/"
        },
        "id": "sasjNkkBZo6T",
        "outputId": "2d8ed392-7166-48cd-e9e8-f6e833f45e6f"
      },
      "outputs": [
        {
          "output_type": "stream",
          "name": "stdout",
          "text": [
            "Looking in indexes: https://pypi.org/simple, https://us-python.pkg.dev/colab-wheels/public/simple/\n",
            "Collecting git+https://github.com/openai/whisper.git\n",
            "  Cloning https://github.com/openai/whisper.git to /tmp/pip-req-build-nc17_8e2\n",
            "  Running command git clone --filter=blob:none --quiet https://github.com/openai/whisper.git /tmp/pip-req-build-nc17_8e2\n",
            "  Resolved https://github.com/openai/whisper.git to commit c09a7ae299c4c34c5839a76380ae407e7d785914\n",
            "  Installing build dependencies ... \u001b[?25l\u001b[?25hdone\n",
            "  Getting requirements to build wheel ... \u001b[?25l\u001b[?25hdone\n",
            "  Preparing metadata (pyproject.toml) ... \u001b[?25l\u001b[?25hdone\n",
            "Requirement already satisfied: triton==2.0.0 in /usr/local/lib/python3.10/dist-packages (from openai-whisper==20230314) (2.0.0)\n",
            "Collecting ffmpeg-python==0.2.0\n",
            "  Downloading ffmpeg_python-0.2.0-py3-none-any.whl (25 kB)\n",
            "Requirement already satisfied: tqdm in /usr/local/lib/python3.10/dist-packages (from openai-whisper==20230314) (4.65.0)\n",
            "Requirement already satisfied: numpy in /usr/local/lib/python3.10/dist-packages (from openai-whisper==20230314) (1.22.4)\n",
            "Collecting tiktoken==0.3.1\n",
            "  Downloading tiktoken-0.3.1-cp310-cp310-manylinux_2_17_x86_64.manylinux2014_x86_64.whl (1.7 MB)\n",
            "\u001b[2K     \u001b[90m━━━━━━━━━━━━━━━━━━━━━━━━━━━━━━━━━━━━━━━━\u001b[0m \u001b[32m1.7/1.7 MB\u001b[0m \u001b[31m20.9 MB/s\u001b[0m eta \u001b[36m0:00:00\u001b[0m\n",
            "\u001b[?25hRequirement already satisfied: torch in /usr/local/lib/python3.10/dist-packages (from openai-whisper==20230314) (2.0.0+cu118)\n",
            "Requirement already satisfied: numba in /usr/local/lib/python3.10/dist-packages (from openai-whisper==20230314) (0.56.4)\n",
            "Requirement already satisfied: more-itertools in /usr/local/lib/python3.10/dist-packages (from openai-whisper==20230314) (9.1.0)\n",
            "Requirement already satisfied: future in /usr/local/lib/python3.10/dist-packages (from ffmpeg-python==0.2.0->openai-whisper==20230314) (0.18.3)\n",
            "Requirement already satisfied: requests>=2.26.0 in /usr/local/lib/python3.10/dist-packages (from tiktoken==0.3.1->openai-whisper==20230314) (2.27.1)\n",
            "Requirement already satisfied: regex>=2022.1.18 in /usr/local/lib/python3.10/dist-packages (from tiktoken==0.3.1->openai-whisper==20230314) (2022.10.31)\n",
            "Requirement already satisfied: filelock in /usr/local/lib/python3.10/dist-packages (from triton==2.0.0->openai-whisper==20230314) (3.12.0)\n",
            "Requirement already satisfied: cmake in /usr/local/lib/python3.10/dist-packages (from triton==2.0.0->openai-whisper==20230314) (3.25.2)\n",
            "Requirement already satisfied: lit in /usr/local/lib/python3.10/dist-packages (from triton==2.0.0->openai-whisper==20230314) (16.0.2)\n",
            "Requirement already satisfied: llvmlite<0.40,>=0.39.0dev0 in /usr/local/lib/python3.10/dist-packages (from numba->openai-whisper==20230314) (0.39.1)\n",
            "Requirement already satisfied: setuptools in /usr/local/lib/python3.10/dist-packages (from numba->openai-whisper==20230314) (67.7.2)\n",
            "Requirement already satisfied: sympy in /usr/local/lib/python3.10/dist-packages (from torch->openai-whisper==20230314) (1.11.1)\n",
            "Requirement already satisfied: typing-extensions in /usr/local/lib/python3.10/dist-packages (from torch->openai-whisper==20230314) (4.5.0)\n",
            "Requirement already satisfied: networkx in /usr/local/lib/python3.10/dist-packages (from torch->openai-whisper==20230314) (3.1)\n",
            "Requirement already satisfied: jinja2 in /usr/local/lib/python3.10/dist-packages (from torch->openai-whisper==20230314) (3.1.2)\n",
            "Requirement already satisfied: idna<4,>=2.5 in /usr/local/lib/python3.10/dist-packages (from requests>=2.26.0->tiktoken==0.3.1->openai-whisper==20230314) (3.4)\n",
            "Requirement already satisfied: certifi>=2017.4.17 in /usr/local/lib/python3.10/dist-packages (from requests>=2.26.0->tiktoken==0.3.1->openai-whisper==20230314) (2022.12.7)\n",
            "Requirement already satisfied: urllib3<1.27,>=1.21.1 in /usr/local/lib/python3.10/dist-packages (from requests>=2.26.0->tiktoken==0.3.1->openai-whisper==20230314) (1.26.15)\n",
            "Requirement already satisfied: charset-normalizer~=2.0.0 in /usr/local/lib/python3.10/dist-packages (from requests>=2.26.0->tiktoken==0.3.1->openai-whisper==20230314) (2.0.12)\n",
            "Requirement already satisfied: MarkupSafe>=2.0 in /usr/local/lib/python3.10/dist-packages (from jinja2->torch->openai-whisper==20230314) (2.1.2)\n",
            "Requirement already satisfied: mpmath>=0.19 in /usr/local/lib/python3.10/dist-packages (from sympy->torch->openai-whisper==20230314) (1.3.0)\n",
            "Building wheels for collected packages: openai-whisper\n",
            "  Building wheel for openai-whisper (pyproject.toml) ... \u001b[?25l\u001b[?25hdone\n",
            "  Created wheel for openai-whisper: filename=openai_whisper-20230314-py3-none-any.whl size=798038 sha256=a51b53a2b3a2d0eaef4a5ec85bebe2adae2f4eb2fb5b6c329d27aec852a8e404\n",
            "  Stored in directory: /tmp/pip-ephem-wheel-cache-_mi_29em/wheels/8b/6c/d0/622666868c179f156cf595c8b6f06f88bc5d80c4b31dccaa03\n",
            "Successfully built openai-whisper\n",
            "Installing collected packages: ffmpeg-python, tiktoken, openai-whisper\n",
            "Successfully installed ffmpeg-python-0.2.0 openai-whisper-20230314 tiktoken-0.3.1\n"
          ]
        }
      ],
      "source": [
        "!pip install git+https://github.com/openai/whisper.git"
      ]
    },
    {
      "cell_type": "code",
      "source": [
        "import whisper"
      ],
      "metadata": {
        "id": "usmkVIbFZ4uT"
      },
      "execution_count": 2,
      "outputs": []
    },
    {
      "cell_type": "code",
      "source": [
        "import whisper\n",
        "model = whisper.load_model(\"base\")\n",
        "# result = model.transcribe(\"レポート機能の説明_ChatGPT_音声.m4a\") # 今回の記事ではtest.m4aを用います。\n",
        "result = model.transcribe(\"/content/レポート機能の説明_ChatGPT_音声.m4a\")\n",
        "print(result[\"text\"])"
      ],
      "metadata": {
        "colab": {
          "base_uri": "https://localhost:8080/"
        },
        "id": "gzOEd1RraJkY",
        "outputId": "fefd50ca-7180-422e-fbb1-51ad699e1f35"
      },
      "execution_count": 4,
      "outputs": [
        {
          "output_type": "stream",
          "name": "stderr",
          "text": [
            "/usr/local/lib/python3.10/dist-packages/whisper/transcribe.py:114: UserWarning: FP16 is not supported on CPU; using FP32 instead\n",
            "  warnings.warn(\"FP16 is not supported on CPU; using FP32 instead\")\n"
          ]
        },
        {
          "output_type": "stream",
          "name": "stdout",
          "text": [
            "はい、今回はですね、SalesForceの一部の機能について説明していきます。SalesForceはビジネスで使われるデータを管理するためのクラウドシステムですね。インターネット上だけで構築されているものになります。このシステムを使うと企業が、工客や商品などの情報を集め、分析することができます。さらにビジネスの成果を把握し、効率な戦略を立てるために役立ちます。これらをボタン一つ、設定で色々な設定、構築で期待するものがSalesForceとなります。そして、SalesForceの中で今回はレポート機能というものを説明していきます。レポート機能はビジネスの成果や慎重を追跡し、分析するための協力なツールです。レポートはSalesForceのデータから簡単に作成でき、ビジネスの成果を定量的に評価することができます。例えば、ある会社がSalesForceを使用して、営業部門の担当者が新規、構築の格特状況を把握した場合を考えてみましょう。この場合、SalesForceのレポート機能を使って、いかのようなレポートを作成することができます。新規、構築、格特状、レポートの種類は、ボーグラフ、データは、構築情報が入力された営業のレコード、営業活動のレコード。収計方法は、一つ一つのレコードが新規、構築、格特状、表時する構築、レポートです。一つ一つ表示するレツを表現するレクセルのレツを表現しているレコードがいいと思う。レツ、もう必要です。そこは、取引先目、取引先担当者、新規、構築数みたいなものを並べていきます。フィルターは、期間で今月だったり、今年度だったり、直近3か月などを絞ることができます。このレポートを作成すると、営業分母は、どの取引先から新規、構築を格特しているかを、一目で把握することができます。また、先ほどもいったフィルターですね、期間を指定することで、時間的な傾向を確認することができます。そんなようなレポートの活用が新規、構築、格特状みたいなところで、一つレポートが作れると思います。二つ目、営業担当者ごとの成果のレポート。レポートの種類としては、積み上げボーグラフみたいなものを作成できます。例えば、イメージ的には、砂糖さんが新規、構築、格特充、参加さんが新規、構築、格特充、二十みたいなところで、誰がどれくらいの成果を上げたかを見れる積み上げボーグラフですね、みたいなものも設定できます。どのデータソースというかレポート、テーブルですね。を見るかというと、営業の活動レポートですね、活動レポートみたいなものを用意されているとしましょう。その中に表示項目として営業担当者名とか、営業の活動なので、誰が担当したのかというのと、新規、告白数と、相談数だったり、相談の成立数みたいなところを表示できるようなレポートを作ります。このレポートを作成すると、どんなことがいいかというと、営業部分は、ここの営業担当の成果を比較し、それぞれの強みや課題を把握することができます。また、相談成立を確認することで、効果的な営業戦略を考えることができます。以上が、セイルスポスのレポート機能を活用する具体例となります。レポートを作成することで、ビジネスや整備、ビジネスの整備や課題を客観的に把握することができるため、適切なビジネス戦略を立てることができます。また、レポートを定期的に作成することで、ビジネスの整備をモニタリングし、必要な場合には改善作を考えることもできます。他にも、レポートの機能を活用することで、次のような分析が可能です。売上の水分析、または、高客の傾向分析、または、何かのキャンペーンを行った時の効果分析、または、チームのパフォーマンス分析、以上のような分析により、ビジネスの整備を最大化するための戦略を立てることができます。また、セイルスフォースのレポート機能は、ビジネスの拡大にとんない、ビジネスの希望や目的に応じて、様々な設定やカスタマイズが可能です。レポートの作成方法や設定については、セイルスフォースの公式の時メントやトレーニングコースなどを参照することができます。セイルスフォースのレポート機能としては、エクセルを使う機械簡単にデータベースのデータを引っ張ってきて、一来表示して、またさらに編集だったり、分析ができるので、是非使いこなして、自分でレポートを作れるところまで行ってみてください。\n"
          ]
        }
      ]
    },
    {
      "cell_type": "code",
      "source": [
        "print(result[\"text\"])"
      ],
      "metadata": {
        "colab": {
          "base_uri": "https://localhost:8080/"
        },
        "id": "6WzIpOBIbJjj",
        "outputId": "1c353dda-bf59-499b-ca6f-5ed2611ffd79"
      },
      "execution_count": 5,
      "outputs": [
        {
          "output_type": "stream",
          "name": "stdout",
          "text": [
            "はい、今回はですね、SalesForceの一部の機能について説明していきます。SalesForceはビジネスで使われるデータを管理するためのクラウドシステムですね。インターネット上だけで構築されているものになります。このシステムを使うと企業が、工客や商品などの情報を集め、分析することができます。さらにビジネスの成果を把握し、効率な戦略を立てるために役立ちます。これらをボタン一つ、設定で色々な設定、構築で期待するものがSalesForceとなります。そして、SalesForceの中で今回はレポート機能というものを説明していきます。レポート機能はビジネスの成果や慎重を追跡し、分析するための協力なツールです。レポートはSalesForceのデータから簡単に作成でき、ビジネスの成果を定量的に評価することができます。例えば、ある会社がSalesForceを使用して、営業部門の担当者が新規、構築の格特状況を把握した場合を考えてみましょう。この場合、SalesForceのレポート機能を使って、いかのようなレポートを作成することができます。新規、構築、格特状、レポートの種類は、ボーグラフ、データは、構築情報が入力された営業のレコード、営業活動のレコード。収計方法は、一つ一つのレコードが新規、構築、格特状、表時する構築、レポートです。一つ一つ表示するレツを表現するレクセルのレツを表現しているレコードがいいと思う。レツ、もう必要です。そこは、取引先目、取引先担当者、新規、構築数みたいなものを並べていきます。フィルターは、期間で今月だったり、今年度だったり、直近3か月などを絞ることができます。このレポートを作成すると、営業分母は、どの取引先から新規、構築を格特しているかを、一目で把握することができます。また、先ほどもいったフィルターですね、期間を指定することで、時間的な傾向を確認することができます。そんなようなレポートの活用が新規、構築、格特状みたいなところで、一つレポートが作れると思います。二つ目、営業担当者ごとの成果のレポート。レポートの種類としては、積み上げボーグラフみたいなものを作成できます。例えば、イメージ的には、砂糖さんが新規、構築、格特充、参加さんが新規、構築、格特充、二十みたいなところで、誰がどれくらいの成果を上げたかを見れる積み上げボーグラフですね、みたいなものも設定できます。どのデータソースというかレポート、テーブルですね。を見るかというと、営業の活動レポートですね、活動レポートみたいなものを用意されているとしましょう。その中に表示項目として営業担当者名とか、営業の活動なので、誰が担当したのかというのと、新規、告白数と、相談数だったり、相談の成立数みたいなところを表示できるようなレポートを作ります。このレポートを作成すると、どんなことがいいかというと、営業部分は、ここの営業担当の成果を比較し、それぞれの強みや課題を把握することができます。また、相談成立を確認することで、効果的な営業戦略を考えることができます。以上が、セイルスポスのレポート機能を活用する具体例となります。レポートを作成することで、ビジネスや整備、ビジネスの整備や課題を客観的に把握することができるため、適切なビジネス戦略を立てることができます。また、レポートを定期的に作成することで、ビジネスの整備をモニタリングし、必要な場合には改善作を考えることもできます。他にも、レポートの機能を活用することで、次のような分析が可能です。売上の水分析、または、高客の傾向分析、または、何かのキャンペーンを行った時の効果分析、または、チームのパフォーマンス分析、以上のような分析により、ビジネスの整備を最大化するための戦略を立てることができます。また、セイルスフォースのレポート機能は、ビジネスの拡大にとんない、ビジネスの希望や目的に応じて、様々な設定やカスタマイズが可能です。レポートの作成方法や設定については、セイルスフォースの公式の時メントやトレーニングコースなどを参照することができます。セイルスフォースのレポート機能としては、エクセルを使う機械簡単にデータベースのデータを引っ張ってきて、一来表示して、またさらに編集だったり、分析ができるので、是非使いこなして、自分でレポートを作れるところまで行ってみてください。\n"
          ]
        }
      ]
    }
  ]
}